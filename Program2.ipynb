{
 "cells": [
  {
   "cell_type": "code",
   "execution_count": 1,
   "id": "3bdf8f20",
   "metadata": {},
   "outputs": [
    {
     "name": "stdout",
     "output_type": "stream",
     "text": [
      "All the rooms are dirty\n",
      "[[1, 1, 1, 1], [1, 1, 1, 1], [1, 1, 1, 1], [1, 1, 1, 1]]\n",
      "Before cleaning the room I detect all of these random dirts\n",
      "[[1, 1, 0, 1], [0, 0, 0, 1], [1, 0, 0, 1], [0, 0, 1, 0]]\n",
      "Vaccum in this location now, 0 0\n",
      "cleaned 0 0\n",
      "Vaccum in this location now, 0 1\n",
      "cleaned 0 1\n",
      "Vaccum in this location now, 0 3\n",
      "cleaned 0 3\n",
      "Vaccum in this location now, 1 3\n",
      "cleaned 1 3\n",
      "Vaccum in this location now, 2 0\n",
      "cleaned 2 0\n",
      "Vaccum in this location now, 2 3\n",
      "cleaned 2 3\n",
      "Vaccum in this location now, 3 2\n",
      "cleaned 3 2\n",
      "Room is clean now, Thanks for using\n",
      "[[0, 0, 0, 0], [0, 0, 0, 0], [0, 0, 0, 0], [0, 0, 0, 0]]\n",
      "performance= 56.25 %\n"
     ]
    }
   ],
   "source": [
    "import random\n",
    "def display(room): \n",
    "    print(room) \n",
    "room = [ \n",
    "    [1, 1, 1, 1], \n",
    "    [1, 1, 1, 1], \n",
    "    [1, 1, 1, 1], \n",
    "    [1, 1, 1, 1], \n",
    "    ] \n",
    "print(\"All the rooms are dirty\") \n",
    "display(room) \n",
    "x =0 \n",
    "y= 0 \n",
    "# All the rooom are dirty \n",
    "# [[1, 1, 1, 1], [1, 1, 1, 1], [1, 1, 1, 1], [1, 1, 1, 1]] \n",
    "\n",
    "while x < 4: \n",
    "    while y < 4: \n",
    "        room[x][y] = random.choice([0,1]) \n",
    "        y+=1 \n",
    "    x+=1 \n",
    "    y=0 \n",
    "print(\"Before cleaning the room I detect all of these random dirts\") \n",
    "display(room) \n",
    "x =0 \n",
    "y= 0 \n",
    "z=0 \n",
    "\n",
    "# Before cleaning the room I detect all of these random dirts [[0, 1, 0, 1], [0, 1, 0, 1], [0, 0, 1, 1], [0, 1, 1, 0]] \n",
    "while x < 4: \n",
    "    while y < 4: \n",
    "        if room[x][y] == 1: \n",
    "            print(\"Vaccum in this location now,\",x, y) \n",
    "            room[x][y] = 0 \n",
    "            print(\"cleaned\", x, y) \n",
    "            z+=1 \n",
    "        y+=1 \n",
    "    x+=1 \n",
    "    y=0 \n",
    "pro= (100-((z/16)*100)) \n",
    "print(\"Room is clean now, Thanks for using\") \n",
    "display(room) \n",
    "print('performance=',pro,'%')"
   ]
  }
 ],
 "metadata": {
  "kernelspec": {
   "display_name": "Python 3 (ipykernel)",
   "language": "python",
   "name": "python3"
  },
  "language_info": {
   "codemirror_mode": {
    "name": "ipython",
    "version": 3
   },
   "file_extension": ".py",
   "mimetype": "text/x-python",
   "name": "python",
   "nbconvert_exporter": "python",
   "pygments_lexer": "ipython3",
   "version": "3.9.13"
  }
 },
 "nbformat": 4,
 "nbformat_minor": 5
}
