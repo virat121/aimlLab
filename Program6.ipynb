{
 "cells": [
  {
   "cell_type": "code",
   "execution_count": 5,
   "id": "e0b49b01",
   "metadata": {},
   "outputs": [
    {
     "name": "stdout",
     "output_type": "stream",
     "text": [
      "Converged in 1000 iterations\n",
      "Final weights: [0.06818548 0.06288722]\n"
     ]
    }
   ],
   "source": [
    "import numpy as np\n",
    "\n",
    "class Perceptron:\n",
    "    def __init__(self, input_size, learning_rate=0.1, threshold=0.0, max_iterations=1000):\n",
    "        self.weights = np.random.rand(input_size)\n",
    "        self.threshold = threshold\n",
    "        self.learning_rate = learning_rate\n",
    "        self.max_iterations = max_iterations\n",
    "    \n",
    "    def activate(self, net_input):\n",
    "        return 1 if net_input >= self.threshold else 0\n",
    "    \n",
    "    def train(self, input_data, labels):\n",
    "        iteration = 0\n",
    "        while iteration < self.max_iterations:\n",
    "            converged = True\n",
    "            for i in range(len(input_data)):\n",
    "                input_vector = np.array(input_data[i])\n",
    "                label = labels[i]\n",
    "                net_input = np.dot(input_vector, self.weights)\n",
    "                predicted_output = self.activate(net_input)\n",
    "                error = label - predicted_output\n",
    "                if error != 0:\n",
    "                    converged = False\n",
    "                    self.weights += self.learning_rate * error * input_vector\n",
    "            if converged:\n",
    "                break\n",
    "            iteration += 1\n",
    "        return iteration\n",
    "\n",
    "# Example usage\n",
    "input_data = [\n",
    "    [0, 0],\n",
    "    [0, 1],\n",
    "    [1, 0],\n",
    "    [1, 1]\n",
    "]\n",
    "labels = [0, 0, 0, 1]\n",
    "perceptron = Perceptron(input_size=2)\n",
    "iterations = perceptron.train(input_data, labels)\n",
    "print(\"Converged in {} iterations\".format(iterations))\n",
    "print(\"Final weights:\", perceptron.weights)\n"
   ]
  }
 ],
 "metadata": {
  "kernelspec": {
   "display_name": "Python 3 (ipykernel)",
   "language": "python",
   "name": "python3"
  },
  "language_info": {
   "codemirror_mode": {
    "name": "ipython",
    "version": 3
   },
   "file_extension": ".py",
   "mimetype": "text/x-python",
   "name": "python",
   "nbconvert_exporter": "python",
   "pygments_lexer": "ipython3",
   "version": "3.9.13"
  }
 },
 "nbformat": 4,
 "nbformat_minor": 5
}
