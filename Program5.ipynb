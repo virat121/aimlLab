{
 "cells": [
  {
   "cell_type": "code",
   "execution_count": 1,
   "id": "7c4f7403",
   "metadata": {},
   "outputs": [
    {
     "name": "stdout",
     "output_type": "stream",
     "text": [
      "Testing AND gate:\n",
      "(0, 0): 0\n",
      "(0, 1): 0\n",
      "(1, 0): 0\n",
      "(1, 1): 1\n",
      "Testing OR gate:\n",
      "(0, 0): 0\n",
      "(0, 1): 1\n",
      "(1, 0): 1\n",
      "(1, 1): 1\n",
      "Testing XOR gate:\n",
      "(0, 0): 0\n",
      "(0, 1): 1\n",
      "(1, 0): 1\n",
      "(1, 1): 1\n",
      "Testing AND NOT gate:\n",
      "(0, 0): 1\n",
      "(0, 1): 0\n",
      "(1, 0): 1\n",
      "(1, 1): 1\n"
     ]
    }
   ],
   "source": [
    "def mcculloch_pitts(inputs, weights, threshold):\n",
    "    assert len(inputs) == len(weights), \"Number of inputs must match number of weights\"\n",
    "    weighted_sum = sum(x * w for x, w in zip(inputs, weights))\n",
    "    output = 1 if weighted_sum >= threshold else 0\n",
    "    return output\n",
    "\n",
    "def test_logic_gate(logic_gate):\n",
    "    print(f\"Testing {logic_gate} gate:\")\n",
    "\n",
    "    if logic_gate == \"AND\":\n",
    "        inputs = [(0, 0), (0, 1), (1, 0), (1, 1)]\n",
    "        weights = (1, 1)\n",
    "        threshold = 2\n",
    "\n",
    "    elif logic_gate == \"OR\":\n",
    "        inputs = [(0, 0), (0, 1), (1, 0), (1, 1)]\n",
    "        weights = (1, 1)\n",
    "        threshold = 1\n",
    "\n",
    "    elif logic_gate == \"XOR\":\n",
    "        inputs = [(0, 0), (0, 1), (1, 0), (1, 1)]\n",
    "        weights_and = (1, 1)\n",
    "        weights_or = (1, 1)\n",
    "        weights_not = (-1,)\n",
    "        threshold = 1\n",
    "        for input_pair in inputs:\n",
    "            input1, input2 = input_pair\n",
    "            and_result = mcculloch_pitts(input_pair, weights_and, threshold)\n",
    "            or_result = mcculloch_pitts(input_pair, weights_or, threshold)\n",
    "            not_result = mcculloch_pitts((and_result,), weights_not, threshold)\n",
    "            xor_result = mcculloch_pitts((or_result, not_result), weights_and, threshold)\n",
    "            print(f\"{input_pair}: {xor_result}\")\n",
    "        return\n",
    "\n",
    "    elif logic_gate == \"AND NOT\":\n",
    "        inputs = [(0, 0), (0, 1), (1, 0), (1, 1)]\n",
    "        weights = (1, -1)\n",
    "        threshold = 0\n",
    "\n",
    "    else:\n",
    "        print(\"Invalid logic gate.\")\n",
    "        return\n",
    "\n",
    "    for input_pair in inputs:\n",
    "        result = mcculloch_pitts(input_pair, weights, threshold)\n",
    "        print(f\"{input_pair}: {result}\")\n",
    "\n",
    "# Test different logic gates\n",
    "test_logic_gate(\"AND\")\n",
    "test_logic_gate(\"OR\")\n",
    "test_logic_gate(\"XOR\")\n",
    "test_logic_gate(\"AND NOT\")"
   ]
  }
 ],
 "metadata": {
  "kernelspec": {
   "display_name": "Python 3 (ipykernel)",
   "language": "python",
   "name": "python3"
  },
  "language_info": {
   "codemirror_mode": {
    "name": "ipython",
    "version": 3
   },
   "file_extension": ".py",
   "mimetype": "text/x-python",
   "name": "python",
   "nbconvert_exporter": "python",
   "pygments_lexer": "ipython3",
   "version": "3.9.13"
  }
 },
 "nbformat": 4,
 "nbformat_minor": 5
}
