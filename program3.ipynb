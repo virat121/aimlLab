{
 "cells": [
  {
   "cell_type": "code",
   "execution_count": null,
   "metadata": {},
   "outputs": [
    {
     "ename": "",
     "evalue": "",
     "output_type": "error",
     "traceback": [
      "\u001b[1;31mRunning cells with 'c:\\Users\\hp\\AppData\\Local\\Programs\\Python\\Python311\\python.exe' requires the ipykernel package.\n",
      "\u001b[1;31mRun the following command to install 'ipykernel' into the Python environment. \n",
      "\u001b[1;31mCommand: 'c:/Users/hp/AppData/Local/Programs/Python/Python311/python.exe -m pip install ipykernel -U --user --force-reinstall'"
     ]
    }
   ],
   "source": [
    "maximum, minimum = 1000, -1000\n",
    "\n",
    "def fun_alphabeta(d, node, maxp, v, A, B):\n",
    "    if d == 3:\n",
    "        return v[node]\n",
    "\n",
    "    if maxp:\n",
    "        best = minimum\n",
    "        for i in range(0, 2):\n",
    "            value = fun_alphabeta(d + 1, node * 2 + i, False, v, A, B)\n",
    "            best = max(best, value)\n",
    "            A = max(A, best)\n",
    "            if B <= A:\n",
    "                break\n",
    "        return best\n",
    "    else:\n",
    "        best = maximum\n",
    "        for i in range(0, 2):\n",
    "            value = fun_alphabeta(d + 1, node * 2 + i, True, v, A, B)\n",
    "            best = min(best, value)\n",
    "            B = min(B, best)\n",
    "            if B <= A:\n",
    "                break\n",
    "        return best\n",
    "\n",
    "scr = []\n",
    "x = int(input(\"Enter total number of leaf node:\"))\n",
    "for i in range(x):\n",
    "    y = int(input(\"Enter node value:\"))\n",
    "    scr.append(y)\n",
    "\n",
    "d = int(input(\"Enter depth value:\"))\n",
    "node = int(input(\"Enter node value:\"))\n",
    "print(\"The optimal value is:\", fun_alphabeta(d, node, True, scr, minimum, maximum))"
   ]
  }
 ],
 "metadata": {
  "kernelspec": {
   "display_name": "Python 3",
   "language": "python",
   "name": "python3"
  },
  "language_info": {
   "name": "python",
   "version": "3.11.1"
  }
 },
 "nbformat": 4,
 "nbformat_minor": 5
}
